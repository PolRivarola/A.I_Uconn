{
 "cells": [
  {
   "cell_type": "markdown",
   "id": "6054f764",
   "metadata": {
    "deletable": false,
    "editable": false
   },
   "source": [
    "## CSE 4705: Assignment 02 - Arad to Bucharest - BFS, DFS, UCS, GBFS, A* \n"
   ]
  },
  {
   "cell_type": "markdown",
   "id": "1393af5b",
   "metadata": {
    "deletable": false
   },
   "source": [
    "## Problem 1\n",
    "[100] Write a routine that solves the problem of finds a travel path of cities from from Arad to Bucharest in Romania, as discussed in class. Do this using each of the following approaches (points shown in brackets):\n",
    "\n",
    "1. [15] Breadth First Search (BFS)\n",
    "2. [10] Depth First Search (DFS)\n",
    "3. [25] Uniform Cost Search (UCS)\n",
    "4. [25] Greedy Best First Search (GBFS)\n",
    "5. [25] A*\n",
    "\n",
    "\n",
    "You will use the map from Lecture 03 - Informed Search which shows the major cities in Romania and the distances between them for those cities that are directly connected.  Also, you will use the straight-line-distances shown in the adjacent table for your heuristic function, $h(n)$ for GBFS and A*.  A screenshot of the relevant slide is given below.  Data structures that store this information, romania_map and sld_to_bucharest, have been provided so you can access and apply this data in your algorithm implementations.  Details of these data structures are given below.\n",
    "\n",
    "<img src=\"images/romania_cities.png\" width=\"800\" height=\"600\">\n",
    "\n",
    "### Output for Each Routine\n",
    "\n",
    "Each of your routines should return an output or set of outputs that clearly indicates the following:\n",
    "\n",
    "1. The sequence of cities from Arad to Bucharest.  (Make sure the cities, Arad and Bucharest are explicitly listed as the first and last cities in your output.)  One suggestion is to return this output in the form of a list.\n",
    "2. Cost to travel to each city from its predecessor.  \n",
    "3. Total cost for the path.  \n",
    "\n",
    "In the case of A* and Uniform Cost Search, your routines should return the *cheapest path*.  However, that will not necessarily be the case for BFS, DFS, or GBFS.  (Why not?)"
   ]
  },
  {
   "cell_type": "markdown",
   "id": "60c9bb8c",
   "metadata": {},
   "source": []
  },
  {
   "cell_type": "markdown",
   "id": "4bd90c49",
   "metadata": {
    "deletable": false,
    "editable": false
   },
   "source": [
    "### Romania Graph\n",
    "\n",
    "You will use the data structure stored in the romania_map, assigned below to implement the search across the various cities to find a path from Arad to Bucharest.\n",
    "\n",
    "Some details about romania_map:\n",
    "- A dictionary of dictionaries \n",
    "- The outer dictionary is as follows: each key is a city and the value for that city is a nested dictionary of cities to which the said city is directly connected.\n",
    "- The nested dictionary contains the cities to which the parent key is directly connected (keys) and the corresponding distances from the parent city to those respective cities (values).\n",
    "- For example, for the city Oradea, we have a key in the outer dictionary (Oradea), and the associated value is a dictionary containing the Zerind and Sibiu as keys, where for each of these the values are the distances from Oradea to these respective cities.\n",
    "\n"
   ]
  },
  {
   "cell_type": "code",
   "execution_count": 207,
   "id": "2e39553c",
   "metadata": {
    "deletable": false,
    "editable": false
   },
   "outputs": [],
   "source": [
    "\n",
    "romania_map = {\n",
    "    'Oradea':{'Zerind':71, 'Sibiu':151},\n",
    "    'Zerind':{'Oradea':71, 'Arad':75},\n",
    "    'Arad':{'Zerind':75, 'Sibiu':140, 'Timisoara':118},\n",
    "    'Timisoara':{'Arad':118, 'Lugoj':111},\n",
    "    'Lugoj':{'Timisoara':111, 'Mehadia':70},\n",
    "    'Mehadia':{'Lugoj':70, 'Dobreta':75},\n",
    "    'Dobreta':{'Mehadia':75, 'Craiova':120},\n",
    "    'Sibiu':{'Oradea':151, 'Fagaras':99, 'Rimnicu Vilcea':80, 'Arad':140},\n",
    "    'Rimnicu Vilcea':{'Sibiu':80, 'Pitesti':97, 'Craiova':146},\n",
    "    'Craiova':{'Rimnicu Vilcea':146, 'Pitesti':138, 'Dobreta':120},\n",
    "    'Fagaras':{'Sibiu':99, 'Bucharest':211},\n",
    "    'Pitesti':{'Rimnicu Vilcea':97, 'Bucharest':101, 'Craiova':138},\n",
    "    'Neamt':{'Iasi':87},\n",
    "    'Giurgiu':{'Bucharest':90},\n",
    "    'Bucharest':{'Pitesti':101, 'Fagaras':211, 'Urziceni':85, 'Giurgiu':90},\n",
    "    'Iasi':{'Neamt':87, 'Vaslui':92},\n",
    "    'Urziceni':{'Bucharest':85, 'Vaslui':142, 'Hirsova':98},\n",
    "    'Vaslui':{'Iasi':92, 'Urziceni':142},\n",
    "    'Hirsova':{'Urziceni':98, 'Eforie':86},\n",
    "    'Eforie':{'Hirsova':86}\n",
    "}"
   ]
  },
  {
   "cell_type": "markdown",
   "id": "39c843be",
   "metadata": {
    "deletable": false,
    "editable": false
   },
   "source": [
    "### Heuristic Function Data - Straight-Line Distances to Bucharest\n",
    "\n",
    "You will use the dictionary below as your resource for retrieving straight-line distance data for implementing the GBFS and A* algorithms."
   ]
  },
  {
   "cell_type": "code",
   "execution_count": 208,
   "id": "3f8011e4",
   "metadata": {
    "deletable": false,
    "editable": false
   },
   "outputs": [],
   "source": [
    "sld_to_Bucharest = {'Arad':366,\n",
    "                    'Bucharest':0,\n",
    "                    'Craiova':160,\n",
    "                    'Dobreta':242,\n",
    "                    'Eforie':161,\n",
    "                    'Fagaras':176,\n",
    "                    'Giurgiu':77,\n",
    "                    'Hirsova':151,\n",
    "                    'Iasi':226,\n",
    "                    'Lugoj':244,\n",
    "                    'Mehadia':241,\n",
    "                    'Neamt':234,\n",
    "                    'Oradea':380,\n",
    "                    'Pitesti':100,\n",
    "                    'Rimnicu Vilcea':193,\n",
    "                    'Sibiu':253,\n",
    "                    'Timisoara':329,\n",
    "                    'Urziceni':80,\n",
    "                    'Vaslui':199,\n",
    "                    'Zerind':374\n",
    "                   }"
   ]
  },
  {
   "cell_type": "markdown",
   "id": "ae14a366",
   "metadata": {},
   "source": [
    "### General usage code"
   ]
  },
  {
   "cell_type": "markdown",
   "id": "92f5db04",
   "metadata": {},
   "source": [
    "##### Node class definition"
   ]
  },
  {
   "cell_type": "code",
   "execution_count": 209,
   "id": "622ade54",
   "metadata": {},
   "outputs": [],
   "source": [
    "class Node:\n",
    "    def __init__(self, city,children = None, predecessor = None, weight = 0):\n",
    "        self.city = city\n",
    "        self.predecessor = predecessor\n",
    "        self.children = children\n",
    "        self.weight = weight\n",
    "    \n",
    "    def unvisited_adjacent_nodes(self, visited_nodes):\n",
    "        unv_nodes = []\n",
    "        for node in self.children:\n",
    "            if node.city not in visited_nodes:\n",
    "                    unv_nodes.append(node)\n",
    "        return unv_nodes\n",
    "    \n",
    "    def is_goal_state(self, goal_city):\n",
    "        return goal_city == self.city\n",
    "    \n",
    "    def set_children(self):\n",
    "        children = []\n",
    "        if self.city in romania_map.keys():\n",
    "            for k,i in romania_map[self.city].items():\n",
    "                children.append(Node(k,weight=i))\n",
    "        self.children = children\n",
    " \n",
    "    def return_path(self):\n",
    "        total_cost = self.weight\n",
    "        pred = self.predecessor\n",
    "        \n",
    "        ret_path = [f\"{self.city} - {self.weight}km\"]\n",
    "        while pred is not None:\n",
    "            total_cost += pred.weight\n",
    "   \n",
    "            if not pred.predecessor:\n",
    "                ret_path.insert(0,pred.city)\n",
    "            else:\n",
    "                path_node = f\"{pred.city} - {str(pred.weight)}km\"\n",
    "                ret_path.insert(0,path_node)\n",
    "                \n",
    "            pred = pred.predecessor\n",
    "        \n",
    "        ret_path.append(f'Total cost: {total_cost}km')\n",
    "            \n",
    "        return ret_path\n"
   ]
  },
  {
   "cell_type": "markdown",
   "id": "aaad6190",
   "metadata": {
    "deletable": false,
    "editable": false
   },
   "source": [
    "### 1. BFS Implementation\n",
    "\n",
    "Provide your implementation of the BFS Search below."
   ]
  },
  {
   "cell_type": "code",
   "execution_count": 210,
   "id": "66236169",
   "metadata": {},
   "outputs": [],
   "source": [
    "def bfs(start_node: Node, goal_city):\n",
    "   visited_nodes = {}\n",
    "   frontier = []\n",
    "   \n",
    "   start_node.set_children()\n",
    "   visited_nodes[start_node.city] = start_node\n",
    "   frontier.append(start_node)\n",
    "   \n",
    "   while frontier:\n",
    "      \n",
    "      current_node = frontier.pop(0)\n",
    "\n",
    "      for neighbor_node in current_node.unvisited_adjacent_nodes(visited_nodes):\n",
    "\n",
    "         neighbor_node.predecessor = current_node\n",
    "         \n",
    "         if neighbor_node.is_goal_state(goal_city):\n",
    "            return neighbor_node.return_path()\n",
    "         neighbor_node.set_children()\n",
    "         visited_nodes[neighbor_node.city] = neighbor_node\n",
    "         frontier.append(neighbor_node)\n",
    "   \n",
    "   return \"Please make sure to introduce a valid starting point and destination \""
   ]
  },
  {
   "cell_type": "code",
   "execution_count": 211,
   "id": "6d4b2a4e",
   "metadata": {},
   "outputs": [
    {
     "data": {
      "text/plain": [
       "['Arad',\n",
       " 'Sibiu - 140km',\n",
       " 'Fagaras - 99km',\n",
       " 'Bucharest - 211km',\n",
       " 'Total cost: 450km']"
      ]
     },
     "execution_count": 211,
     "metadata": {},
     "output_type": "execute_result"
    }
   ],
   "source": [
    "bfs( Node('Arad'),'Bucharest')"
   ]
  },
  {
   "cell_type": "markdown",
   "id": "d7c03e3c",
   "metadata": {
    "deletable": false,
    "editable": false
   },
   "source": [
    "### 2.  DFS Implementation\n",
    "\n",
    "Provide your implementation of the DFS Search below."
   ]
  },
  {
   "cell_type": "code",
   "execution_count": 212,
   "id": "65ee1bf0",
   "metadata": {},
   "outputs": [],
   "source": [
    "def dfs(start_node: Node, goal_city):\n",
    "   visited_nodes = {}\n",
    "   frontier = []\n",
    "   \n",
    "   start_node.set_children()\n",
    "      \n",
    "   visited_nodes[start_node.city] = start_node\n",
    "   frontier.append(start_node)\n",
    "   \n",
    "   while frontier:\n",
    "      \n",
    "      current_node = frontier.pop(0)\n",
    "      for neighbor_node in current_node.unvisited_adjacent_nodes(visited_nodes):\n",
    "\n",
    "         neighbor_node.predecessor = current_node\n",
    "         \n",
    "         if neighbor_node.is_goal_state(goal_city):\n",
    "            return neighbor_node.return_path()\n",
    "         neighbor_node.set_children()\n",
    "         visited_nodes[neighbor_node.city] = neighbor_node\n",
    "         frontier.insert(0,neighbor_node)\n",
    "   \n",
    "   return \"Please make sure to introduce a valid starting point and destination \""
   ]
  },
  {
   "cell_type": "code",
   "execution_count": 213,
   "id": "73611d75",
   "metadata": {},
   "outputs": [
    {
     "data": {
      "text/plain": [
       "['Arad',\n",
       " 'Timisoara - 118km',\n",
       " 'Lugoj - 111km',\n",
       " 'Mehadia - 70km',\n",
       " 'Dobreta - 75km',\n",
       " 'Craiova - 120km',\n",
       " 'Pitesti - 138km',\n",
       " 'Bucharest - 101km',\n",
       " 'Total cost: 733km']"
      ]
     },
     "execution_count": 213,
     "metadata": {},
     "output_type": "execute_result"
    }
   ],
   "source": [
    "dfs(Node('Arad'), 'Bucharest')"
   ]
  },
  {
   "cell_type": "markdown",
   "id": "96b855a1",
   "metadata": {
    "deletable": false,
    "editable": false
   },
   "source": [
    "### 3. UCS Implementation\n",
    "\n",
    "Provide your implementation of the UCS Search below."
   ]
  },
  {
   "cell_type": "code",
   "execution_count": 214,
   "id": "97225669",
   "metadata": {},
   "outputs": [],
   "source": [
    "\n",
    "import heapq\n",
    "\n",
    "class UCS_Node(Node):\n",
    "    def __init__(self, city, children=None, predecessor=None, weight=0):\n",
    "        super().__init__(city, children, predecessor, weight)\n",
    "        self.agg_weight = weight\n",
    "\n",
    "    def set_children(self):\n",
    "        children = []\n",
    "        if self.city in romania_map.keys():\n",
    "            for k, i in romania_map[self.city].items():\n",
    "                children.append(UCS_Node(k, weight=i))\n",
    "        self.children = children\n",
    "\n",
    "    def update_frontier(self, frontier):\n",
    "        for node in frontier:\n",
    "            if self.city == node[1].city:\n",
    "                if self.agg_weight < node[1].agg_weight:\n",
    "                    frontier.remove(node)\n",
    "                    heapq.heappush(frontier, (self.agg_weight, self))\n",
    "                    return\n",
    "                return\n",
    "        heapq.heappush(frontier, (self.agg_weight, self))\n",
    "\n",
    "    def __lt__(self, other):\n",
    "        return self.agg_weight < other.agg_weight\n",
    "    \n",
    "        "
   ]
  },
  {
   "cell_type": "code",
   "execution_count": 215,
   "id": "8c5be3b0",
   "metadata": {},
   "outputs": [],
   "source": [
    "# def ucs(start_node: UCS_Node, goal_city):\n",
    "#    visited_nodes = {}\n",
    "#    frontier = []\n",
    "#    error_msg = \"Please make sure to introduce a valid starting point and destination \"\n",
    "   \n",
    "#    if not goal_city in romania_map:\n",
    "#       return error_msg\n",
    "#    start_node.set_children()\n",
    "      \n",
    "#    visited_nodes[start_node.city] = start_node\n",
    "#    frontier.append(start_node)\n",
    "   \n",
    "#    while frontier:\n",
    "      \n",
    "#       frontier.sort(key=lambda node: node.agg_weight)\n",
    "\n",
    "#       current_node = frontier.pop(0)\n",
    "#       current_cost = current_node.agg_weight\n",
    "      \n",
    "#       if current_node.is_goal_state(goal_city):\n",
    "#             return current_node.return_path()\n",
    "#       current_node.set_children()\n",
    "      \n",
    "#       neighbor_nodes = current_node.unvisited_adjacent_nodes(visited_nodes)\n",
    "#       for node in neighbor_nodes:\n",
    "#          node.agg_weight += current_cost\n",
    "#          node.predecessor = current_node\n",
    "#          node.update_frontier(frontier)\n",
    "      \n",
    "#    return error_msg\n"
   ]
  },
  {
   "cell_type": "code",
   "execution_count": 220,
   "id": "a91d7595",
   "metadata": {},
   "outputs": [],
   "source": [
    "import heapq\n",
    "def ucs(start_node: UCS_Node, goal_city):\n",
    "    visited_nodes = {}\n",
    "    frontier = []\n",
    "    error_msg = \"Please make sure to introduce a valid starting point and destination \"\n",
    "\n",
    "    if not goal_city in romania_map:\n",
    "        return error_msg\n",
    "    start_node.set_children()\n",
    "\n",
    "    visited_nodes[start_node.city] = start_node\n",
    "    heapq.heappush(frontier, (start_node.agg_weight, start_node))\n",
    "\n",
    "    while frontier:\n",
    "        current_node = heapq.heappop(frontier)[1]\n",
    "        current_cost = current_node.agg_weight\n",
    "\n",
    "        if current_node.is_goal_state(goal_city):\n",
    "            return current_node.return_path()\n",
    "\n",
    "        current_node.set_children()\n",
    "\n",
    "        neighbor_nodes = current_node.unvisited_adjacent_nodes(visited_nodes)\n",
    "        for node in neighbor_nodes:\n",
    "            node.agg_weight += current_cost\n",
    "            node.predecessor = current_node\n",
    "            node.update_frontier(frontier)\n",
    "    return error_msg"
   ]
  },
  {
   "cell_type": "code",
   "execution_count": 224,
   "id": "380ce651",
   "metadata": {},
   "outputs": [
    {
     "data": {
      "text/plain": [
       "['Sibiu',\n",
       " 'Rimnicu Vilcea - 80km',\n",
       " 'Pitesti - 97km',\n",
       " 'Bucharest - 101km',\n",
       " 'Urziceni - 85km',\n",
       " 'Vaslui - 142km',\n",
       " 'Iasi - 92km',\n",
       " 'Neamt - 87km',\n",
       " 'Total cost: 684km']"
      ]
     },
     "execution_count": 224,
     "metadata": {},
     "output_type": "execute_result"
    }
   ],
   "source": [
    "ucs(UCS_Node('Sibiu'), 'Neamt')\n"
   ]
  },
  {
   "cell_type": "code",
   "execution_count": null,
   "id": "bc33a3d7",
   "metadata": {},
   "outputs": [],
   "source": []
  },
  {
   "cell_type": "code",
   "execution_count": null,
   "id": "5a055202",
   "metadata": {},
   "outputs": [],
   "source": []
  },
  {
   "cell_type": "markdown",
   "id": "482eb6c4",
   "metadata": {
    "deletable": false,
    "editable": false
   },
   "source": [
    "### 4. GBFS Implementation\n",
    "\n",
    "Provide your implementation of the GBFS Search below."
   ]
  },
  {
   "cell_type": "code",
   "execution_count": null,
   "id": "6abab9d3",
   "metadata": {},
   "outputs": [],
   "source": []
  },
  {
   "cell_type": "code",
   "execution_count": null,
   "id": "3638eb80",
   "metadata": {},
   "outputs": [],
   "source": []
  },
  {
   "cell_type": "code",
   "execution_count": null,
   "id": "72645e66",
   "metadata": {},
   "outputs": [],
   "source": []
  },
  {
   "cell_type": "code",
   "execution_count": null,
   "id": "ffce40f3",
   "metadata": {},
   "outputs": [],
   "source": []
  },
  {
   "cell_type": "code",
   "execution_count": null,
   "id": "76f96c44",
   "metadata": {},
   "outputs": [],
   "source": []
  },
  {
   "cell_type": "markdown",
   "id": "18423249",
   "metadata": {
    "deletable": false,
    "editable": false
   },
   "source": [
    "### 5. A* Implementation\n",
    "\n",
    "Provide your implementation of the A* Algorithm below."
   ]
  },
  {
   "cell_type": "code",
   "execution_count": null,
   "id": "2647730d",
   "metadata": {},
   "outputs": [],
   "source": []
  },
  {
   "cell_type": "code",
   "execution_count": null,
   "id": "f507d40e",
   "metadata": {},
   "outputs": [],
   "source": []
  },
  {
   "cell_type": "code",
   "execution_count": null,
   "id": "18e84dcf",
   "metadata": {},
   "outputs": [],
   "source": []
  },
  {
   "cell_type": "code",
   "execution_count": null,
   "id": "79b9b9bb",
   "metadata": {},
   "outputs": [],
   "source": []
  },
  {
   "cell_type": "code",
   "execution_count": null,
   "id": "979e3987",
   "metadata": {},
   "outputs": [],
   "source": []
  }
 ],
 "metadata": {
  "kernelspec": {
   "display_name": "Python 3 (ipykernel)",
   "language": "python",
   "name": "python3"
  },
  "language_info": {
   "codemirror_mode": {
    "name": "ipython",
    "version": 3
   },
   "file_extension": ".py",
   "mimetype": "text/x-python",
   "name": "python",
   "nbconvert_exporter": "python",
   "pygments_lexer": "ipython3",
   "version": "3.10.11"
  }
 },
 "nbformat": 4,
 "nbformat_minor": 5
}
