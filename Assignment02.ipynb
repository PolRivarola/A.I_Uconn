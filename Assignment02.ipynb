{
 "cells": [
  {
   "cell_type": "markdown",
   "id": "6054f764",
   "metadata": {
    "deletable": false,
    "editable": false
   },
   "source": [
    "## CSE 4705: Assignment 02 - Arad to Bucharest - BFS, DFS, UCS, GBFS, A* \n"
   ]
  },
  {
   "cell_type": "markdown",
   "id": "1393af5b",
   "metadata": {
    "deletable": false
   },
   "source": [
    "## Problem 1\n",
    "[100] Write a routine that solves the problem of finds a travel path of cities from from Arad to Bucharest in Romania, as discussed in class. Do this using each of the following approaches (points shown in brackets):\n",
    "\n",
    "1. [15] Breadth First Search (BFS)\n",
    "2. [10] Depth First Search (DFS)\n",
    "3. [25] Uniform Cost Search (UCS)\n",
    "4. [25] Greedy Best First Search (GBFS)\n",
    "5. [25] A*\n",
    "\n",
    "\n",
    "You will use the map from Lecture 03 - Informed Search which shows the major cities in Romania and the distances between them for those cities that are directly connected.  Also, you will use the straight-line-distances shown in the adjacent table for your heuristic function, $h(n)$ for GBFS and A*.  A screenshot of the relevant slide is given below.  Data structures that store this information, romania_map and sld_to_bucharest, have been provided so you can access and apply this data in your algorithm implementations.  Details of these data structures are given below.\n",
    "\n",
    "\n",
    "### Output for Each Routine\n",
    "\n",
    "Each of your routines should return an output or set of outputs that clearly indicates the following:\n",
    "\n",
    "1. The sequence of cities from Arad to Bucharest.  (Make sure the cities, Arad and Bucharest are explicitly listed as the first and last cities in your output.)  One suggestion is to return this output in the form of a list.\n",
    "2. Cost to travel to each city from its predecessor.  \n",
    "3. Total cost for the path.  \n",
    "\n",
    "In the case of A* and Uniform Cost Search, your routines should return the *cheapest path*.  However, that will not necessarily be the case for BFS, DFS, or GBFS.  (Why not?)"
   ]
  },
  {
   "cell_type": "markdown",
   "id": "60c9bb8c",
   "metadata": {},
   "source": []
  },
  {
   "cell_type": "markdown",
   "id": "4bd90c49",
   "metadata": {
    "deletable": false,
    "editable": false
   },
   "source": [
    "### Romania Graph\n",
    "\n",
    "You will use the data structure stored in the romania_map, assigned below to implement the search across the various cities to find a path from Arad to Bucharest.\n",
    "\n",
    "Some details about romania_map:\n",
    "- A dictionary of dictionaries \n",
    "- The outer dictionary is as follows: each key is a city and the value for that city is a nested dictionary of cities to which the said city is directly connected.\n",
    "- The nested dictionary contains the cities to which the parent key is directly connected (keys) and the corresponding distances from the parent city to those respective cities (values).\n",
    "- For example, for the city Oradea, we have a key in the outer dictionary (Oradea), and the associated value is a dictionary containing the Zerind and Sibiu as keys, where for each of these the values are the distances from Oradea to these respective cities.\n",
    "\n"
   ]
  },
  {
   "cell_type": "code",
   "execution_count": 1,
   "id": "2e39553c",
   "metadata": {
    "deletable": false,
    "editable": false
   },
   "outputs": [],
   "source": [
    "\n",
    "romania_map = {\n",
    "    'Oradea':{'Zerind':71, 'Sibiu':151},\n",
    "    'Zerind':{'Oradea':71, 'Arad':75},\n",
    "    'Arad':{'Zerind':75, 'Sibiu':140, 'Timisoara':118},\n",
    "    'Timisoara':{'Arad':118, 'Lugoj':111},\n",
    "    'Lugoj':{'Timisoara':111, 'Mehadia':70},\n",
    "    'Mehadia':{'Lugoj':70, 'Dobreta':75},\n",
    "    'Dobreta':{'Mehadia':75, 'Craiova':120},\n",
    "    'Sibiu':{'Oradea':151, 'Fagaras':99, 'Rimnicu Vilcea':80, 'Arad':140},\n",
    "    'Rimnicu Vilcea':{'Sibiu':80, 'Pitesti':97, 'Craiova':146},\n",
    "    'Craiova':{'Rimnicu Vilcea':146, 'Pitesti':138, 'Dobreta':120},\n",
    "    'Fagaras':{'Sibiu':99, 'Bucharest':211},\n",
    "    'Pitesti':{'Rimnicu Vilcea':97, 'Bucharest':101, 'Craiova':138},\n",
    "    'Neamt':{'Iasi':87},\n",
    "    'Giurgiu':{'Bucharest':90},\n",
    "    'Bucharest':{'Pitesti':101, 'Fagaras':211, 'Urziceni':85, 'Giurgiu':90},\n",
    "    'Iasi':{'Neamt':87, 'Vaslui':92},\n",
    "    'Urziceni':{'Bucharest':85, 'Vaslui':142, 'Hirsova':98},\n",
    "    'Vaslui':{'Iasi':92, 'Urziceni':142},\n",
    "    'Hirsova':{'Urziceni':98, 'Eforie':86},\n",
    "    'Eforie':{'Hirsova':86}\n",
    "}"
   ]
  },
  {
   "cell_type": "markdown",
   "id": "39c843be",
   "metadata": {
    "deletable": false,
    "editable": false
   },
   "source": [
    "### Heuristic Function Data - Straight-Line Distances to Bucharest\n",
    "\n",
    "You will use the dictionary below as your resource for retrieving straight-line distance data for implementing the GBFS and A* algorithms."
   ]
  },
  {
   "cell_type": "code",
   "execution_count": 2,
   "id": "3f8011e4",
   "metadata": {
    "deletable": false,
    "editable": false
   },
   "outputs": [],
   "source": [
    "sld_to_Bucharest = {'Arad':366,\n",
    "                    'Bucharest':0,\n",
    "                    'Craiova':160,\n",
    "                    'Dobreta':242,\n",
    "                    'Eforie':161,\n",
    "                    'Fagaras':176,\n",
    "                    'Giurgiu':77,\n",
    "                    'Hirsova':151,\n",
    "                    'Iasi':226,\n",
    "                    'Lugoj':244,\n",
    "                    'Mehadia':241,\n",
    "                    'Neamt':234,\n",
    "                    'Oradea':380,\n",
    "                    'Pitesti':100,\n",
    "                    'Rimnicu Vilcea':193,\n",
    "                    'Sibiu':253,\n",
    "                    'Timisoara':329,\n",
    "                    'Urziceni':80,\n",
    "                    'Vaslui':199,\n",
    "                    'Zerind':374\n",
    "                   }"
   ]
  },
  {
   "cell_type": "markdown",
   "id": "ae14a366",
   "metadata": {},
   "source": [
    "### General usage code"
   ]
  },
  {
   "cell_type": "markdown",
   "id": "92f5db04",
   "metadata": {},
   "source": [
    "##### Node class definition"
   ]
  },
  {
   "cell_type": "code",
   "execution_count": 3,
   "id": "622ade54",
   "metadata": {},
   "outputs": [],
   "source": [
    "class Node:\n",
    "    def __init__(self, city,children = None, predecessor = None, weight = 0):\n",
    "        self.city = city\n",
    "        self.predecessor = predecessor\n",
    "        self.children = children\n",
    "        self.weight = weight\n",
    "        self.agg_weight = weight\n",
    "    \n",
    "    def unvisited_adjacent_nodes(self, visited_nodes):\n",
    "        unv_nodes = []\n",
    "        for node in self.children:\n",
    "            if node.city not in visited_nodes:\n",
    "                    unv_nodes.append(node)\n",
    "        return unv_nodes\n",
    "    \n",
    "    def is_goal_state(self, goal_city):\n",
    "        return goal_city == self.city\n",
    "    \n",
    "    def set_children(self):\n",
    "        children = []\n",
    "        if self.city in romania_map.keys():\n",
    "            for k,i in romania_map[self.city].items():\n",
    "                children.append(Node(k,weight=i))\n",
    "        self.children = children\n",
    " \n",
    "    def return_path(self):\n",
    "        total_cost = self.weight\n",
    "        pred = self.predecessor\n",
    "        \n",
    "        ret_path = [f\"{self.city} - {self.weight}km\"]\n",
    "        while pred is not None:\n",
    "            total_cost += pred.weight\n",
    "   \n",
    "            if not pred.predecessor:\n",
    "                ret_path.insert(0,pred.city)\n",
    "            else:\n",
    "                path_node = f\"{pred.city} - {str(pred.weight)}km\"\n",
    "                ret_path.insert(0,path_node)\n",
    "                \n",
    "            pred = pred.predecessor\n",
    "        \n",
    "        ret_path.append(f'Total cost: {total_cost}km')\n",
    "            \n",
    "        return ret_path\n",
    "    \n",
    "    def update_frontier(self, frontier, queue_lookup,f_of_n):\n",
    "        if self.city in queue_lookup.keys():\n",
    "            existing_node = queue_lookup[self.city]\n",
    "            if f_of_n['compare'](self, existing_node):\n",
    "                existing_node.remove_from_priority_queue(frontier, queue_lookup)   \n",
    "            else:  \n",
    "                return\n",
    "        \n",
    "        frontier.put((self.agg_weight, self))\n",
    "        queue_lookup[self.city] = self\n",
    "        \n",
    "    def remove_from_priority_queue(self,pq,queue_lookup):\n",
    "        temp_list = []\n",
    "\n",
    "        while not pq.empty():\n",
    "            priority, element = pq.get()\n",
    "            if element != self:\n",
    "                temp_list.append((priority, element))\n",
    "            else:\n",
    "                del queue_lookup[self.city]\n",
    "        \n",
    "        for item in temp_list:\n",
    "            pq.put(item)\n"
   ]
  },
  {
   "cell_type": "markdown",
   "id": "b20e6f1e",
   "metadata": {},
   "source": [
    "##### Uninformed search algorithm"
   ]
  },
  {
   "cell_type": "code",
   "execution_count": 4,
   "id": "22e188f5",
   "metadata": {},
   "outputs": [],
   "source": [
    "def uninformed_sa(start_node: Node, goal_city, data_s):\n",
    "   visited_nodes = {}\n",
    "   frontier = data_s\n",
    "   error_msg = \"Please make sure to introduce a valid starting point and destination \"\n",
    "\n",
    "   start_node.set_children()\n",
    "   visited_nodes[start_node.city] = start_node\n",
    "   frontier.append(start_node)\n",
    "   \n",
    "   if not goal_city in romania_map:\n",
    "      return error_msg\n",
    "   \n",
    "   while frontier:\n",
    "      \n",
    "      if type(frontier)==list:\n",
    "         current_node = frontier.pop(0)\n",
    "      else:\n",
    "         current_node = frontier.pop()\n",
    "         \n",
    "      for neighbor_node in current_node.unvisited_adjacent_nodes(visited_nodes):\n",
    "\n",
    "         neighbor_node.predecessor = current_node\n",
    "         \n",
    "         if neighbor_node.is_goal_state(goal_city):\n",
    "            return neighbor_node.return_path()\n",
    "         neighbor_node.set_children()\n",
    "         visited_nodes[neighbor_node.city] = neighbor_node\n",
    "         frontier.append(neighbor_node)\n",
    "   \n",
    "   return error_msg"
   ]
  },
  {
   "cell_type": "markdown",
   "id": "f7bb9dcf",
   "metadata": {},
   "source": [
    "##### Informed search algorithm + UCS"
   ]
  },
  {
   "cell_type": "code",
   "execution_count": 5,
   "id": "39de3375",
   "metadata": {},
   "outputs": [],
   "source": [
    "from queue import PriorityQueue\n",
    "def ucs_and_informed_s_algs(start_node: Node, goal_city, f_of_n):\n",
    "    visited_nodes = {}\n",
    "    frontier = PriorityQueue()\n",
    "    queue_lookup = {}\n",
    "    error_msg = \"Please make sure to introduce a valid starting point and destination \"\n",
    "\n",
    "    if not goal_city in romania_map:\n",
    "        return error_msg\n",
    "    start_node.set_children()\n",
    "\n",
    "    visited_nodes[start_node.city] = start_node\n",
    "    frontier.put((f_of_n[\"value\"](start_node), start_node))\n",
    "\n",
    "    while not frontier.empty():\n",
    "        current_node = frontier.get()[1]\n",
    "        current_cost = current_node.agg_weight\n",
    "        visited_nodes[current_node.city] = current_node\n",
    "        if current_node.is_goal_state(goal_city):\n",
    "            return current_node.return_path()\n",
    "\n",
    "        current_node.set_children()\n",
    "\n",
    "        neighbor_nodes = current_node.unvisited_adjacent_nodes(visited_nodes)\n",
    "        for node in neighbor_nodes:\n",
    "            node.agg_weight += current_cost\n",
    "            node.predecessor = current_node\n",
    "            node.update_frontier(frontier,queue_lookup,f_of_n)\n",
    "        \n",
    "    return error_msg"
   ]
  },
  {
   "cell_type": "markdown",
   "id": "aaad6190",
   "metadata": {
    "deletable": false,
    "editable": false
   },
   "source": [
    "### 1. BFS Implementation\n",
    "\n",
    "Provide your implementation of the BFS Search below."
   ]
  },
  {
   "cell_type": "code",
   "execution_count": 6,
   "id": "6d4b2a4e",
   "metadata": {},
   "outputs": [
    {
     "data": {
      "text/plain": [
       "['Arad',\n",
       " 'Sibiu - 140km',\n",
       " 'Fagaras - 99km',\n",
       " 'Bucharest - 211km',\n",
       " 'Total cost: 450km']"
      ]
     },
     "execution_count": 6,
     "metadata": {},
     "output_type": "execute_result"
    }
   ],
   "source": [
    "uninformed_sa( Node('Arad'),'Bucharest',list())"
   ]
  },
  {
   "cell_type": "markdown",
   "id": "d7c03e3c",
   "metadata": {
    "deletable": false,
    "editable": false
   },
   "source": [
    "### 2.  DFS Implementation\n",
    "\n",
    "Provide your implementation of the DFS Search below."
   ]
  },
  {
   "cell_type": "code",
   "execution_count": 7,
   "id": "73611d75",
   "metadata": {},
   "outputs": [
    {
     "data": {
      "text/plain": [
       "['Arad',\n",
       " 'Timisoara - 118km',\n",
       " 'Lugoj - 111km',\n",
       " 'Mehadia - 70km',\n",
       " 'Dobreta - 75km',\n",
       " 'Craiova - 120km',\n",
       " 'Pitesti - 138km',\n",
       " 'Bucharest - 101km',\n",
       " 'Total cost: 733km']"
      ]
     },
     "execution_count": 7,
     "metadata": {},
     "output_type": "execute_result"
    }
   ],
   "source": [
    "from collections import deque\n",
    "uninformed_sa( Node('Arad'),'Bucharest',deque())"
   ]
  },
  {
   "cell_type": "markdown",
   "id": "96b855a1",
   "metadata": {
    "deletable": false,
    "editable": false
   },
   "source": [
    "### 3. UCS Implementation\n",
    "\n",
    "Provide your implementation of the UCS Search below."
   ]
  },
  {
   "cell_type": "code",
   "execution_count": 8,
   "id": "5eaa458c",
   "metadata": {},
   "outputs": [],
   "source": [
    "def ucs(start_node: Node, goal_city):\n",
    "    def f_n_value(node):\n",
    "        return node.agg_weight\n",
    "    def f_n_compare(node, node_b):\n",
    "        return f_n_value(node) < f_n_value(node_b)\n",
    "    \n",
    "    f_n = dict(value = f_n_value,\n",
    "               compare = f_n_compare)\n",
    "    return ucs_and_informed_s_algs(start_node, goal_city,f_n)"
   ]
  },
  {
   "cell_type": "code",
   "execution_count": 9,
   "id": "380ce651",
   "metadata": {},
   "outputs": [
    {
     "data": {
      "text/plain": [
       "['Arad',\n",
       " 'Sibiu - 140km',\n",
       " 'Rimnicu Vilcea - 80km',\n",
       " 'Pitesti - 97km',\n",
       " 'Bucharest - 101km',\n",
       " 'Total cost: 418km']"
      ]
     },
     "execution_count": 9,
     "metadata": {},
     "output_type": "execute_result"
    }
   ],
   "source": [
    "ucs(Node('Arad'), 'Bucharest')"
   ]
  },
  {
   "cell_type": "markdown",
   "id": "482eb6c4",
   "metadata": {
    "deletable": false,
    "editable": false
   },
   "source": [
    "### 4. GBFS Implementation\n",
    "\n",
    "Provide your implementation of the GBFS Search below."
   ]
  },
  {
   "cell_type": "code",
   "execution_count": 10,
   "id": "6abab9d3",
   "metadata": {},
   "outputs": [],
   "source": [
    "def gbfs(start_node: Node, goal_city):\n",
    "    def f_n_value(node):\n",
    "        return sld_to_Bucharest[node.city]\n",
    "    def f_n_compare(node, node_b):\n",
    "        return False\n",
    "    \n",
    "    f_n = dict(value = f_n_value,\n",
    "               compare = f_n_compare)\n",
    "    return ucs_and_informed_s_algs(start_node, goal_city,f_n)"
   ]
  },
  {
   "cell_type": "code",
   "execution_count": 11,
   "id": "3638eb80",
   "metadata": {},
   "outputs": [
    {
     "data": {
      "text/plain": [
       "['Arad',\n",
       " 'Sibiu - 140km',\n",
       " 'Fagaras - 99km',\n",
       " 'Bucharest - 211km',\n",
       " 'Total cost: 450km']"
      ]
     },
     "execution_count": 11,
     "metadata": {},
     "output_type": "execute_result"
    }
   ],
   "source": [
    "gbfs(Node('Arad'), 'Bucharest')"
   ]
  },
  {
   "cell_type": "markdown",
   "id": "18423249",
   "metadata": {
    "deletable": false,
    "editable": false
   },
   "source": [
    "### 5. A* Implementation\n",
    "\n",
    "Provide your implementation of the A* Algorithm below."
   ]
  },
  {
   "cell_type": "code",
   "execution_count": 12,
   "id": "2647730d",
   "metadata": {},
   "outputs": [],
   "source": [
    "def a_star(start_node: Node, goal_city):\n",
    "    def f_n_value(node):\n",
    "        return sld_to_Bucharest[node.city] + node.agg_weight\n",
    "    def f_n_compare(node, node_b):\n",
    "        return f_n_value(node) < f_n_value(node_b)\n",
    "    \n",
    "    f_n = dict(value = f_n_value,\n",
    "               compare = f_n_compare)\n",
    "    return ucs_and_informed_s_algs(start_node, goal_city,f_n)"
   ]
  },
  {
   "cell_type": "code",
   "execution_count": 13,
   "id": "f507d40e",
   "metadata": {},
   "outputs": [
    {
     "data": {
      "text/plain": [
       "['Arad',\n",
       " 'Sibiu - 140km',\n",
       " 'Rimnicu Vilcea - 80km',\n",
       " 'Pitesti - 97km',\n",
       " 'Bucharest - 101km',\n",
       " 'Total cost: 418km']"
      ]
     },
     "execution_count": 13,
     "metadata": {},
     "output_type": "execute_result"
    }
   ],
   "source": [
    "a_star(Node('Arad'), 'Bucharest')"
   ]
  }
 ],
 "metadata": {
  "kernelspec": {
   "display_name": "Python 3 (ipykernel)",
   "language": "python",
   "name": "python3"
  },
  "language_info": {
   "codemirror_mode": {
    "name": "ipython",
    "version": 3
   },
   "file_extension": ".py",
   "mimetype": "text/x-python",
   "name": "python",
   "nbconvert_exporter": "python",
   "pygments_lexer": "ipython3",
   "version": "3.9.13"
  }
 },
 "nbformat": 4,
 "nbformat_minor": 5
}
